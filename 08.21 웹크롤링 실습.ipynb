{
 "cells": [
  {
   "cell_type": "code",
   "execution_count": 11,
   "metadata": {
    "collapsed": false
   },
   "outputs": [],
   "source": [
    "### 네이버 검색 순위 크롤링\n",
    "\n",
    "import requests\n",
    "from bs4 import BeautifulSoup\n",
    "\n",
    "url = 'http://www.naver.com/'\n",
    "html = requests.get(url).text\n",
    "soup = BeautifulSoup(html, 'html.parser')\n",
    "\n",
    "tag_list = soup.select('.PM_CL_realtimeKeyword_rolling.ah_item.ah_k')\n",
    "for idx, tag in enumerate(tag_list,1):\n",
    "    print(idx, tag.text)"
   ]
  },
  {
   "cell_type": "code",
   "execution_count": 12,
   "metadata": {
    "collapsed": false
   },
   "outputs": [
    {
     "name": "stdout",
     "output_type": "stream",
     "text": [
      "1 이지현\n",
      "2 화유기\n",
      "3 이승기\n",
      "4 김민채\n",
      "5 정담이\n",
      "6 김명수\n",
      "7 생리대\n",
      "8 이사강\n",
      "9 아이유\n",
      "10 릴리안 생리대\n",
      "11 깨끗한나라\n",
      "12 릴리안\n",
      "13 공무원연금관리공단\n",
      "14 김진표\n",
      "15 국가장학금\n",
      "16 박근혜\n",
      "17 한국장학재단\n",
      "18 서울보증보험\n",
      "19 정운택\n",
      "20 피스메이커\n"
     ]
    }
   ],
   "source": [
    "import requests\n",
    "from bs4 import BeautifulSoup\n",
    "\n",
    "html = requests.get('http://www.naver.com/').text\n",
    "soup = BeautifulSoup(html, 'html.parser')\n",
    "\n",
    "tag_list = soup.select('.PM_CL_realtimeKeyword_rolling .ah_item .ah_k')\n",
    "for idx, tag in enumerate(tag_list,1):\n",
    "   print(idx, tag.text)"
   ]
  },
  {
   "cell_type": "code",
   "execution_count": 13,
   "metadata": {
    "collapsed": true
   },
   "outputs": [],
   "source": [
    "import requests\n",
    "from bs4 import BeautifulSoup\n",
    "from collections import OrderedDict\n",
    "from itertools import count # 숫자 증가 라이브러리\n",
    "\n",
    "def naver_blog_search(q):\n",
    "   post_dict = OrderedDict()\n",
    "   \n",
    "   for page in count(1):\n",
    "       url = 'https://search.naver.com/search.naver'\n",
    "       params = {\n",
    "           'query': q,\n",
    "           'where': 'post',\n",
    "           'start': (page-1)*10 + 1, # 1, 11, 21, 31 ...\n",
    "       }\n",
    "       response = requests.get(url, params=params)\n",
    "       html = response.text\n",
    "       soup = BeautifulSoup(html, 'html.parser')\n",
    "               \n",
    "       for tag in soup.select('.sh_blog_title'):\n",
    "           if tag['href'] in post_dict:\n",
    "               return post_dict\n",
    "           \n",
    "           print(tag.text, tag['href'])\n",
    "           post_dict[tag['href']] = tag.text\n",
    "   return post_dict"
   ]
  },
  {
   "cell_type": "code",
   "execution_count": null,
   "metadata": {
    "collapsed": true
   },
   "outputs": [],
   "source": []
  }
 ],
 "metadata": {
  "kernelspec": {
   "display_name": "Python 3",
   "language": "python",
   "name": "python3"
  },
  "language_info": {
   "codemirror_mode": {
    "name": "ipython",
    "version": 3
   },
   "file_extension": ".py",
   "mimetype": "text/x-python",
   "name": "python",
   "nbconvert_exporter": "python",
   "pygments_lexer": "ipython3",
   "version": "3.6.0"
  }
 },
 "nbformat": 4,
 "nbformat_minor": 2
}
