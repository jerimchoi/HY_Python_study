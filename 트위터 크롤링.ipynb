{
 "cells": [
  {
   "cell_type": "code",
   "execution_count": 2,
   "metadata": {
    "collapsed": false
   },
   "outputs": [
    {
     "ename": "ModuleNotFoundError",
     "evalue": "No module named 'twython'",
     "output_type": "error",
     "traceback": [
      "\u001b[0;31m---------------------------------------------------------------------------\u001b[0m",
      "\u001b[0;31mModuleNotFoundError\u001b[0m                       Traceback (most recent call last)",
      "\u001b[0;32m<ipython-input-2-1ca456da8c3d>\u001b[0m in \u001b[0;36m<module>\u001b[0;34m()\u001b[0m\n\u001b[0;32m----> 1\u001b[0;31m \u001b[1;32mfrom\u001b[0m \u001b[0mtwython\u001b[0m \u001b[1;32mimport\u001b[0m \u001b[0mTwython\u001b[0m\u001b[1;33m\u001b[0m\u001b[0m\n\u001b[0m\u001b[1;32m      2\u001b[0m \u001b[1;33m\u001b[0m\u001b[0m\n\u001b[1;32m      3\u001b[0m \u001b[0mCONSUMER_KEY\u001b[0m \u001b[1;33m=\u001b[0m \u001b[1;34m\"YJVBQKBeapTK6gWrANU6Dv4gw\"\u001b[0m\u001b[1;33m\u001b[0m\u001b[0m\n\u001b[1;32m      4\u001b[0m \u001b[0mCONSUMER_SECRET\u001b[0m \u001b[1;33m=\u001b[0m \u001b[1;34m\"FPdXgkZd0feA2VHlyLQcRET1XJ7u5PtyM0mG8LOGFM7fdWD8P6\"\u001b[0m\u001b[1;33m\u001b[0m\u001b[0m\n\u001b[1;32m      5\u001b[0m \u001b[0mACCESS_TOKEN\u001b[0m \u001b[1;33m=\u001b[0m \u001b[1;34m\"194893361-8oL51JuugrbB9iZkYj1ssFPQURc3MzGMuWZddJPm\"\u001b[0m\u001b[1;33m\u001b[0m\u001b[0m\n",
      "\u001b[0;31mModuleNotFoundError\u001b[0m: No module named 'twython'"
     ]
    }
   ],
   "source": [
    "from twython import Twython\n",
    "\n",
    "CONSUMER_KEY = \"YJVBQKBeapTK6gWrANU6Dv4gw\"\n",
    "CONSUMER_SECRET = \"FPdXgkZd0feA2VHlyLQcRET1XJ7u5PtyM0mG8LOGFM7fdWD8P6\"\n",
    "ACCESS_TOKEN = \"194893361-8oL51JuugrbB9iZkYj1ssFPQURc3MzGMuWZddJPm\"\n",
    "ACCESS_TOKEN_SECRET = \"gSESFE2ozqst9zJsLhCzHtaPdJGZYY2Pzpb6zuns1qx6t\"\n",
    "\n",
    "twitter = Twython(CONSUMER_KEY, CONSUMER_SECRET)\n",
    "\n",
    "# '''data science'''라는 키워드가 들어있는 트윗 검색\n",
    "for status in twitter.search(q='''man utd''')[\"statuses\"]:\n",
    "    user = status[\"user\"][\"screen_name\"].encode('utf-8')\n",
    "    text = status[\"text\"].encode('utf-8')\n",
    "    print(user, \":\", text)"
   ]
  },
  {
   "cell_type": "code",
   "execution_count": null,
   "metadata": {
    "collapsed": true
   },
   "outputs": [],
   "source": []
  }
 ],
 "metadata": {
  "kernelspec": {
   "display_name": "Python 3",
   "language": "python",
   "name": "python3"
  }
 },
 "nbformat": 4,
 "nbformat_minor": 2
}
